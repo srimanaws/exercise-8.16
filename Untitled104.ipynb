{
 "cells": [
  {
   "cell_type": "code",
   "execution_count": 1,
   "id": "6955e910-26b2-4228-9dce-6e62ebd1c119",
   "metadata": {},
   "outputs": [
    {
     "name": "stdout",
     "output_type": "stream",
     "text": [
      "http://example.com\n",
      "http://domain.org\n"
     ]
    }
   ],
   "source": [
    "# Sriman - In-Class Activity 8.16 (Regular Expressions: Locating URLs)\n",
    "import re\n",
    "\n",
    "def find_valid_urls(text):\n",
    "    # We define a pattern for URLs that start with 'http://' and have a domain name\n",
    "    url_pattern = r'http://\\w+\\.\\w{2,}'\n",
    "    # Now we search the text for all matches to this pattern\n",
    "    urls = re.findall(url_pattern, text)\n",
    "    # Let's print the URLs we found\n",
    "    for url in urls:\n",
    "        print(url)\n",
    "\n",
    "# Sample text with URLs\n",
    "text = \"Visit http://example.com for more information or http://domain.org for details.\"\n",
    "find_valid_urls(text)  # will print: 'http://example.com' and 'http://domain.org'\n"
   ]
  },
  {
   "cell_type": "code",
   "execution_count": null,
   "id": "e87ded87-b035-4428-8580-43d5584ec1aa",
   "metadata": {},
   "outputs": [],
   "source": []
  }
 ],
 "metadata": {
  "kernelspec": {
   "display_name": "Python 3 (ipykernel)",
   "language": "python",
   "name": "python3"
  },
  "language_info": {
   "codemirror_mode": {
    "name": "ipython",
    "version": 3
   },
   "file_extension": ".py",
   "mimetype": "text/x-python",
   "name": "python",
   "nbconvert_exporter": "python",
   "pygments_lexer": "ipython3",
   "version": "3.12.4"
  }
 },
 "nbformat": 4,
 "nbformat_minor": 5
}
